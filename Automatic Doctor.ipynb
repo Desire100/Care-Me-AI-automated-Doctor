{
 "cells": [
  {
   "cell_type": "markdown",
   "metadata": {},
   "source": [
    "# Automated Doctor with help of BioBERT and Flutter\n",
    "\n",
    "## Overview\n",
    " \n",
    "\n",
    "AutoDoc is a mobile app for iOS and Android for medical purpose that helps you chat with an automated general practice doctor and get a quick diagnosis and treatment. It supports voice to communicate with the artificial intelligence doctor. It was trained on lots of medical questions and answers over 700K of them.\n",
    "\n",
    "## N.B \n",
    "##### This app is not going to be better than a real doctor but it gives the best diagnosis posssible. People who can not afford the health care because it's too expensive this app is for them.\n",
    "\n",
    "## Prerequestie Knowledge\n",
    "- The knowlegde of how a pre-trained (BERT) [biomedical language representation model for biomedical text mining](https://arxiv.org/pdf/1901.08746.pdf) work\n",
    "- How to build a [Flutter](https://flutter.dev/) plugin (iOS + Android)\n",
    "\n",
    "\n",
    "\n",
    "## Tools Used\n",
    "\n",
    "- App building (Flutter) \n",
    "- User Accounts (Firebase)\n",
    "- Voice Recognition plugin (custom channel, iOS Speech API, Android SpeechRecognizer)\n",
    "- AI Model(BioBERT , input question into retrained bioBERT to convert into an embedding. Input the embedding into a fully connected neural network, output an embedding for similarity lookup. Most similar Q&A's used by GPT-2 to generate an answer. )\n",
    "\n",
    "\n",
    "## What is happening in the background\n",
    "\n",
    "We have this model BioBERT and what you do is to  give an input to the model (your ailment) and it gives the output which is your diagnosis. In the real world you provide three features to the doctor: Symptoms, Medications and side effect. when you provide these features to this biobert model it gives you two things: diagnosis and treatment plan.\n",
    "\n",
    "## Logic used\n",
    "We need to understand what the user is typing, we need to understand whether the sentence contains symptoms, meddications or side effects. we should create a concatinated input for our model in and we can do this by doing key words recognition with help of  if statements.\n"
   ]
  },
  {
   "cell_type": "markdown",
   "metadata": {},
   "source": [
    "## Applications \n",
    "Building wealth by providing services that are impactful to the other people using AI technology. \n",
    "\n",
    "## App design \n",
    "\n",
    "- Let's start with speech to text\n",
    "- Step 1 - Download Base code https://github.com/rxlabz/sytody\n",
    "- Step 2 -  Install and run base code\n",
    "- Step 3 - Analyze Base Code"
   ]
  },
  {
   "cell_type": "code",
   "execution_count": null,
   "metadata": {},
   "outputs": [],
   "source": []
  }
 ],
 "metadata": {
  "kernelspec": {
   "display_name": "Python 3",
   "language": "python",
   "name": "python3"
  },
  "language_info": {
   "codemirror_mode": {
    "name": "ipython",
    "version": 3
   },
   "file_extension": ".py",
   "mimetype": "text/x-python",
   "name": "python",
   "nbconvert_exporter": "python",
   "pygments_lexer": "ipython3",
   "version": "3.7.3"
  }
 },
 "nbformat": 4,
 "nbformat_minor": 2
}
